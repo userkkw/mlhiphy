{
 "cells": [
  {
   "cell_type": "markdown",
   "metadata": {},
   "source": [
    "# Parameter estimation for a linear operator with pyGPs"
   ]
  },
  {
   "cell_type": "markdown",
   "metadata": {},
   "source": [
    "Assumptions: <br>\n",
    "$\\mathcal{L}_x^{\\phi}u(x) = f(x)$ <br>\n",
    "$u(x) \\sim \\mathcal{GP}(0, k_{uu}(x, x', \\theta))$ <br>\n",
    "$f(x) \\sim \\mathcal{GP}(0, k_{ff}(x, x', \\theta, \\phi))$ <br>\n",
    "$\\theta = \\{\\sigma, l\\}$ <br>\n",
    "\n",
    "<br>\n",
    "Problem at hand: Given $\\{X_u, y_u\\}$ and $\\{X_f, y_f\\}$, estimate $\\phi$. <br>\n",
    "<br>\n",
    "We employ a GP with a RBF kernel for u and f: <br>\n",
    "$k_{uu}(x_i, x_j; \\theta_u) = \\sigma_u^2 \\exp(-\\frac{1}{2l_u^2}(x_i - x_j)^2) \\\\\n",
    "k_{ff}(x_i, x_j; \\theta_f) = \\sigma_f^2 \\exp(-\\frac{1}{2l_f^2}(x_i - x_j)^2) $ <br> <br>\n",
    "\n",
    "We use the known transformation behavior of Gaussian Processes: <br>\n",
    "$k_{ff}(x_i, x_j; \\theta, \\phi) \\\\\n",
    "= \\mathcal{L}_{x_i}^{\\phi}\\mathcal{L}_{x_j}^{\\phi}k_{uu}(x_i, x_j; \\theta) \\\\\n",
    "= \\phi^2\\sigma_u^2 \\exp(-\\frac{1}{2l_u^2}(x_i - x_j)^2)$ <br> <br>\n",
    "\n",
    "Looking at an entry of the covariance matrix, where $x_i = x_j$ (a diagonal element), it follows that\n",
    "$\\sigma_f^2 = \\phi^2\\sigma_u^2$, i.e. <br>\n",
    "$\\phi = \\frac{\\sigma_f}{\\sigma_u}$.\n",
    "\n",
    "\n"
   ]
  },
  {
   "cell_type": "code",
   "execution_count": null,
   "metadata": {},
   "outputs": [
    {
     "name": "stderr",
     "output_type": "stream",
     "text": [
      "Number of line searches 21\n",
      "Number of line searches 10\n"
     ]
    },
    {
     "name": "stdout",
     "output_type": "stream",
     "text": [
      "474983.1781946725\n"
     ]
    }
   ],
   "source": [
    "import numpy as np\n",
    "import pyGPs\n",
    "\n",
    "# Linear functional L = phi*u(x) was chosen. Desired result: phi = 12.0.\n",
    "\n",
    "# Generating data\n",
    "t = 1\n",
    "u0 = 5\n",
    "dt = 0.1\n",
    "#u_{n} = L(u_{n+1})\n",
    "#L = I - dt*mu*d_xx\n",
    "x_u = np.linspace(0,2*np.pi,20)\n",
    "y_u = (4*u0/np.pi)*np.sin(np.pi*x_u)*np.exp(-np.square(np.pi)*t)\n",
    "x_f = np.linspace(0,2*np.pi,20)\n",
    "y_f = 0.1*(4*u0/np.pi)*np.sin(np.pi*x_f)*np.exp(-np.square(np.pi)*t)+dt*(4*u0*np.pi)*np.sin(np.pi*x_f)*np.exp(-np.square(np.pi)*t)     # You can vary the factor, and that very factor should be the output of this program\n",
    "\n",
    "# The function u is assumed to be a Gaussian Process. \n",
    "# After a linear transformation, f has to be a Gaussian Process as well.\n",
    "\n",
    "model_u = pyGPs.GPR()\n",
    "model_u.setData(x_u, y_u)\n",
    "model_u.optimize(x_u, y_u)\n",
    "\n",
    "model_f = pyGPs.GPR()\n",
    "model_f.setData(x_f, y_f)\n",
    "model_f.optimize(x_f, y_f)\n",
    "\n",
    "\n",
    "# Note that in hyp only the logarithm of the hyperparameter is stored!\n",
    "# Characteristic length-scale is equal to np.exp(hyp[0]) (Default: 1)\n",
    "# Signal variance is equal to np.exp(hyp[1]) (Default: 1)\n",
    "\n",
    "print(np.exp(model_f.covfunc.hyp[1])/np.exp(model_u.covfunc.hyp[1]))\t# This should give 12 as output\n",
    "\n",
    "# My Output: 12.0486915165"
   ]
  },
  {
   "cell_type": "code",
   "execution_count": null,
   "metadata": {},
   "outputs": [],
   "source": []
  },
  {
   "cell_type": "code",
   "execution_count": null,
   "metadata": {},
   "outputs": [],
   "source": []
  }
 ],
 "metadata": {
  "kernelspec": {
   "display_name": "Python 3",
   "language": "python",
   "name": "python3"
  },
  "language_info": {
   "codemirror_mode": {
    "name": "ipython",
    "version": 3
   },
   "file_extension": ".py",
   "mimetype": "text/x-python",
   "name": "python",
   "nbconvert_exporter": "python",
   "pygments_lexer": "ipython3",
   "version": "3.6.5"
  }
 },
 "nbformat": 4,
 "nbformat_minor": 2
}
